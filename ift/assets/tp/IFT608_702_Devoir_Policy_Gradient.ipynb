{
  "cells": [
    {
      "cell_type": "code",
      "execution_count": null,
      "metadata": {
        "id": "zWS_tbXjMTkO"
      },
      "outputs": [],
      "source": []
    },
    {
      "cell_type": "markdown",
      "metadata": {
        "id": "A4AYupN7MUkQ"
      },
      "source": [
        "# IFT608: Devoir sur l'apprentissage par renforcement\n",
        "\n",
        "    \n",
        "**Date de remise :** \n",
        "\n",
        "Le but de ce devoir est d'expérimenter les méthodes dites *policy gradient* et variantes, y compris les méthodes de réduction de la variance.\n",
        "\n",
        "Les objectifs seront de compléter les implémentations d'agents RL qui apprendront une politique paramétrée en utilisant des réseaux neuronaux pour résoudre la tâche [CartPole](https://gymnasium.farama.org/environments/classic_control/cart_pole/). La tâche CartPole consiste à apprendre à un agent comment équilibrer un poteau sur le chariot sans tomber pendant un temps maximum.\n",
        "\n",
        "Vous analyserez également le comportement de votre agent sur différentes méthodes qui définissent sa politique à l'aide de graphiques des récompenses obtenues.\n",
        "\n",
        "![Cartpole](https://gymnasium.farama.org/_images/cart_pole.gif)\n",
        "\n",
        "[Vous pouvez trouver plus de detail sur cet environement ici](https://gymnasium.farama.org/environments/classic_control/cart_pole/)"
      ]
    },
    {
      "cell_type": "markdown",
      "metadata": {
        "id": "i7e-N5WST3SV"
      },
      "source": [
        "## Rappel\n",
        "Rappelez vous du théorème policy gradient suivant:\n",
        "\n",
        "&emsp;&emsp;$\\nabla_\\theta J(\\theta) = \\mathbb{E}_{\\pi_\\theta}\\left[ \\nabla_\\theta ln\\pi_\\theta (a|s)Q^{\\pi_θ}(s,a)\\right]$ \\\\\n",
        "\n",
        "Par Monte Carlo (à partir de l’expérience), $J(\\theta)$ peut être estimé de la manière suivante:\n",
        "\n",
        "&emsp;&emsp;$J(\\theta) = \\frac{1}{\\sum T_i}\\sum_{j=1}^{|D|} \\sum_{t=1}^{T_j}Q^{\\pi_θ}(a_t^j|s_t^j)ln\\pi_\\theta (a_t^j|s_t^j)$ \\\\\n",
        "\n",
        "Avec\n",
        "\n",
        "* $D$, l'ensemble de trajectoires collectées en utilisant la politique ${\\pi_θ}$;\n",
        "* $τ^i = (s_0^i, a_0^i, r_0^i, s_1^i,...,s_{T_i}^i, a_{T_i}^i, r_{T_i}^i)$ la ième trajectoire.\n",
        "\n",
        "Note: Il est important de savoir que la formule de $J(\\theta)$ peut légèrement différer de ce qu'on a vu au cours, pour la simple raison qu'ici on considère un batch d'expériences avant de mettre à jour les paramètres au lieu d'utiliser un seul épisode. C'est pour des raisons de stabilité de l’entraînement des modèles et cela fait partie de bonnes pratiques.\n",
        "\n",
        "Pour chaque variant de l'algorithme, nous allons voir comment choisir le terme $Q^{\\pi_θ}$. \n",
        "\n",
        "La règle pour mettre à jour les paramètres $θ$ est la suivante:\n",
        "\n",
        "  &emsp;&emsp;$\\theta_i = \\theta_i + \\alpha \\nabla_\\theta J(\\theta)$\n",
        "\n",
        "  avec $\\alpha$ le pas d'apprentissage (learning rate ou step size)."
      ]
    },
    {
      "cell_type": "markdown",
      "metadata": {
        "id": "7VUveXZ8dton"
      },
      "source": [
        "## Préparation de l'environement."
      ]
    },
    {
      "cell_type": "code",
      "execution_count": null,
      "metadata": {
        "id": "eCC3RjfSdp_P"
      },
      "outputs": [],
      "source": [
        "# install dependecies\n",
        "%%capture\n",
        "!pip install \"gymnasium[all]\"\n",
        "!pip install pyvirtualdisplay\n",
        "\n",
        "!sudo apt-get install xvfb"
      ]
    },
    {
      "cell_type": "code",
      "execution_count": null,
      "metadata": {
        "id": "Jk4wgN3oDjjS"
      },
      "outputs": [],
      "source": []
    },
    {
      "cell_type": "markdown",
      "metadata": {
        "id": "DT2ZqHscDkmn"
      },
      "source": [
        "### Importation de librairies."
      ]
    },
    {
      "cell_type": "code",
      "execution_count": null,
      "metadata": {
        "colab": {
          "base_uri": "https://localhost:8080/"
        },
        "id": "Zo4A6NfFeS2y",
        "outputId": "4388e58d-4c56-48d4-9496-58f449cd2b91"
      },
      "outputs": [
        {
          "output_type": "stream",
          "name": "stderr",
          "text": [
            "/usr/local/lib/python3.8/dist-packages/gymnasium/envs/registration.py:521: UserWarning: \u001b[33mWARN: Overriding environment GymV26Environment-v0 already in registry.\u001b[0m\n",
            "  logger.warn(f\"Overriding environment {new_spec.id} already in registry.\")\n",
            "/usr/local/lib/python3.8/dist-packages/gymnasium/envs/registration.py:521: UserWarning: \u001b[33mWARN: Overriding environment GymV22Environment-v0 already in registry.\u001b[0m\n",
            "  logger.warn(f\"Overriding environment {new_spec.id} already in registry.\")\n"
          ]
        }
      ],
      "source": [
        "# Run this cell\n",
        "\n",
        "# type hinting \n",
        "from typing import Sequence, Tuple, Dict, Any, Optional\n",
        "\n",
        "import numpy as np\n",
        "import random\n",
        "\n",
        "# torch stuff\n",
        "import torch\n",
        "import torch.nn as nn\n",
        "import torch.nn.functional as F \n",
        "from torch import optim\n",
        "\n",
        "# env\n",
        "import gymnasium as gym\n",
        "from gymnasium.wrappers.monitoring.video_recorder import VideoRecorder\n",
        "\n",
        "# data manipulation, colab dispaly, and plotting\n",
        "import pandas as pd\n",
        "import matplotlib.pyplot as plt\n",
        "import seaborn as sns\n",
        "from pyvirtualdisplay import Display\n",
        "from IPython import display as ipythondisplay\n",
        "from IPython.display import clear_output\n",
        "\n",
        "# misc util\n",
        "import random, glob, base64, itertools\n",
        "from pathlib import Path\n",
        "from pprint import pprint"
      ]
    },
    {
      "cell_type": "code",
      "execution_count": null,
      "metadata": {
        "id": "IByQ-SgpL_Sq"
      },
      "outputs": [],
      "source": [
        "%matplotlib inline"
      ]
    },
    {
      "cell_type": "markdown",
      "metadata": {
        "id": "9u4DzllgfZ2R"
      },
      "source": [
        "## Fonctions utilitaires"
      ]
    },
    {
      "cell_type": "markdown",
      "metadata": {
        "id": "w6YgJZ-duMaG"
      },
      "source": [
        "### Fonction pour visualiser l'environnement dans colab"
      ]
    },
    {
      "cell_type": "code",
      "execution_count": null,
      "metadata": {
        "id": "NcISq9G0fNuY"
      },
      "outputs": [],
      "source": [
        "def show_video(directory):\n",
        "    html = []\n",
        "    for mp4 in Path(directory).glob(\"*.mp4\"):\n",
        "        video_b64 = base64.b64encode(mp4.read_bytes())\n",
        "        html.append('''<video alt=\"{}\" autoplay \n",
        "                      loop controls style=\"height: 400px;\">\n",
        "                      <source src=\"data:video/mp4;base64,{}\" type=\"video/mp4\" />\n",
        "                 </video>'''.format(mp4, video_b64.decode('ascii')))\n",
        "    ipythondisplay.display(ipythondisplay.HTML(data=\"<br>\".join(html)))\n",
        "    \n",
        "display = Display(visible=0, size=(1400, 900))\n",
        "display.start(); "
      ]
    },
    {
      "cell_type": "markdown",
      "metadata": {
        "id": "Fp-OKrUSuZEm"
      },
      "source": [
        "### Classe chargée de créer les instances des models de réseaux neuronaux de l'agent."
      ]
    },
    {
      "cell_type": "code",
      "execution_count": null,
      "metadata": {
        "id": "glzaKOf0gPyO"
      },
      "outputs": [],
      "source": [
        "# Classe pour construire un modèle\n",
        "class Model(nn.Module):\n",
        "    def __init__(self, features: Sequence[int], fn=nn.ReLU):\n",
        "        \"\"\"Fully-connected Network\n",
        "\n",
        "        Args:\n",
        "            features: a list of ints like: [input_dim, 16, 16, output_dim]\n",
        "        \"\"\"\n",
        "        super(Model, self).__init__()\n",
        "        \n",
        "        layers = []\n",
        "        for i in range(len(features) - 1):\n",
        "            layers.append(\n",
        "                nn.Linear(\n",
        "                    in_features=features[i],\n",
        "                    out_features=features[i + 1],\n",
        "                    )\n",
        "            )\n",
        "            if i != len(features) - 2:\n",
        "                layers.append(fn())\n",
        "        \n",
        "        self.net = nn.Sequential(*layers)\n",
        "        \n",
        "    def forward(self, input):\n",
        "        return self.net(input)"
      ]
    },
    {
      "cell_type": "markdown",
      "metadata": {
        "id": "d8pGu_Wyu943"
      },
      "source": [
        "### Classe de base d'un agent.\n",
        "\n",
        "Vous allez implémenter la méthode `optimize_model` pour chacun de type d'agent."
      ]
    },
    {
      "cell_type": "code",
      "execution_count": null,
      "metadata": {
        "id": "YkczrGcIg07k"
      },
      "outputs": [],
      "source": [
        "# Classe pour un agent de base\n",
        "class BaseAgent(object):\n",
        "    \"\"\" The base agent class function.\n",
        "    \"\"\"\n",
        "    \n",
        "    def __init__(self, config: Dict[str, Any]):\n",
        "        \"\"\"\n",
        "        args:\n",
        "            config: configuration dictionary\n",
        "        \"\"\"\n",
        "        self.config = config\n",
        "\n",
        "        # environment\n",
        "        self.seed = config['seed']\n",
        "        self.env = gym.make(**config['env_id'])\n",
        "\n",
        "        self.env_monitor = gym.make(**config['env_id_monitor'])\n",
        "\n",
        "        self.gamma = config['gamma']\n",
        "\n",
        "        # set seed\n",
        "        np.random.seed(seed=config['seed'])\n",
        "        random.seed(config['seed'])\n",
        "        torch.manual_seed(config['seed'])\n",
        "\n",
        "        # build policy model\n",
        "        _policy_logits_model = Model(\n",
        "            [self.env.observation_space.shape[0]] + \n",
        "            config['policy_layers'] + # note that these are only the intermediate layers\n",
        "            [self.env.action_space.n], fn=config['policy_activation']\n",
        "        )\n",
        "        # NOTE: by design, policy model should take *batches* of states as input.\n",
        "        # self.policy_model spits out the probability of each action\n",
        "        self.policy_model = nn.Sequential(\n",
        "            _policy_logits_model, nn.Softmax(dim=1), \n",
        "        )\n",
        "        self.policy_optimizer = torch.optim.Adam(\n",
        "            self.policy_model.parameters(), \n",
        "            lr=config['policy_learning_rate'],\n",
        "        )\n",
        "        \n",
        "\n",
        "        if config['use_baseline']:\n",
        "            self.value_model = Model(\n",
        "              [self.env.observation_space.shape[0]] + \n",
        "              self.config['value_layers'] + [1], fn=config['value_activation']\n",
        "            )\n",
        "            self.value_optimizer = torch.optim.Adam(self.value_model.parameters(), lr=config['value_learning_rate'])\n",
        "    \n",
        "    def _make_returns(self, rewards: np.ndarray):\n",
        "        \"\"\" Compute the cumulative discounted rewards at each time step\n",
        "\n",
        "        args:\n",
        "            rewards: an array of step rewards\n",
        "\n",
        "        returns:\n",
        "            returns: an array of discounted returns from that timestep onward\n",
        "        \"\"\"\n",
        "        returns = np.zeros_like(rewards)\n",
        "        returns[-1] = rewards[-1]\n",
        "        for t in reversed(range(len(rewards) - 1)):\n",
        "            returns[t] = rewards[t] + self.gamma * returns[t + 1]\n",
        "        return returns\n",
        "    \n",
        "    # Method to implement\n",
        "    def optimize_model(self, n_episodes: int) -> np.ndarray:\n",
        "        \"\"\" Takes a gradient step on policy (and value) parameters using \n",
        "            `n_episodes` number of episodes. You'll need to implement\n",
        "            this method for each part of this problem: namely, gather a \n",
        "            dataset of size `n_episodes`, approximate the gradient using \n",
        "            REINFORCE, and apply it to the model parameters. \n",
        "\n",
        "        args:\n",
        "            n_episodes: number of trajectories in dataset\n",
        "\n",
        "        returns:\n",
        "            returns: the total discounted reward of each trajectory/episode.\n",
        "        \"\"\"\n",
        "        \n",
        "        raise NotImplementedError\n",
        "    \n",
        "    def train(self, n_episodes: int, n_iterations: int, plot: bool = True) -> Sequence[np.ndarray]:\n",
        "        \"\"\" Train.\n",
        "        args:\n",
        "            n_episodes: number of episodes for each gradient step\n",
        "            n_iterations: determine training duration\n",
        "        \"\"\"\n",
        "        \n",
        "        rewards = []\n",
        "        for it in range(n_iterations):\n",
        "            rewards.append(self.optimize_model(n_episodes))\n",
        "            print(f'Iteration {it + 1}/{n_iterations}: rewards {round(rewards[-1].mean(), 2)} +/- {round(rewards[-1].std(), 2)}')\n",
        "\n",
        "        if plot:\n",
        "            self.plot_rewards(rewards)\n",
        "\n",
        "        return(rewards)\n",
        "        \n",
        "    @staticmethod\n",
        "    def plot_rewards(rewards: Sequence[np.ndarray], ax: Optional[Any] = None):\n",
        "        # Plotting\n",
        "        r = pd.DataFrame((itertools.chain(*(itertools.product([i], rewards[i]) for i in range(len(rewards))))), columns=['Epoch', 'Reward'])\n",
        "        if ax is None:\n",
        "            sns.lineplot(x=\"Epoch\", y=\"Reward\", data=r, ci='sd');\n",
        "        else:\n",
        "            sns.lineplot(x=\"Epoch\", y=\"Reward\", data=r, ci='sd', ax=ax);\n",
        "        \n",
        "    def evaluate(self):\n",
        "        \"\"\" Evaluate and visualize a single episode.\n",
        "        \"\"\"\n",
        "\n",
        "        env = gym.make(**config['env_id_monitor'])\n",
        "        self.monitor_env = VideoRecorder(env, \"./gym-results.mp4\") #, force=True, video_callable=lambda episode: True)\n",
        "        observation, _ = self.monitor_env.env.reset(seed=self.seed)\n",
        "        observation = torch.tensor(observation, dtype=torch.float)[None, :]\n",
        "        reward_episode = 0\n",
        "        done = False\n",
        "        self.policy_model.eval()\n",
        "        with torch.no_grad():    \n",
        "          while not done:\n",
        "              self.monitor_env.capture_frame()\n",
        "              probs = self.policy_model.forward(observation)\n",
        "              action = torch.multinomial(probs, 1)[0] # draw samples from dist\n",
        "              observation, reward, terminated, truncated, info = self.monitor_env.env.step(int(action))\n",
        "              done = terminated or truncated\n",
        "              observation = torch.tensor(observation, dtype=torch.float)[None, :]\n",
        "              reward_episode += reward\n",
        "\n",
        "        self.policy_model.train()\n",
        "        self.monitor_env.close()\n",
        "        show_video(\"./\")\n",
        "        print(f'Reward: {reward_episode}')\n",
        "        "
      ]
    },
    {
      "cell_type": "markdown",
      "metadata": {
        "id": "2WIGeSdVfyD9"
      },
      "source": [
        "# Question 2. REINFORCE"
      ]
    },
    {
      "cell_type": "markdown",
      "metadata": {
        "id": "3uXnv5JEVwH3"
      },
      "source": [
        "REINFORCE est un algorithme policy gradient où les returns échantillonnés $G_t$ sont utilisés comme estimations non biaisées de $Q^{π_θ} (s, a)$. L'estimateur de REINFORCE peut être exprimé comme le gradient de la fonction objectif suivante :\n",
        "\n",
        "&emsp;&emsp;$J(\\theta) = \\frac{1}{\\sum T_i}\\sum_{j=1}^{|D|} \\sum_{t=1}^{T_j}G_t^jln\\pi_\\theta (a_t^j|s_t^j)$ \\\\\n",
        "\n",
        "Avec \n",
        "\n",
        "$G_t^j=\\sum_{k = 0}^{T_j} \\gamma^{k} R_{t+k+1}^j$\n",
        "\n",
        "Implémentation de  `optimize_model`. Cette méthode est appelée à chaque itération de l’entraînement et est chargée de :\n",
        "\n",
        "1. collecter un ensemble de données d'épisodes\n",
        "2. calculer l'espérance du gradient de la politique.\n",
        ">Notez que vous ne calculerez que la valeur de la perte (loss value).\n",
        "\n",
        "*ASTUCE* :\n",
        "\n",
        "* Notez que le modèle de réseau de neurones pour la politique `self.policy_model` produit la probabilité de prendre chaque action discrète. Par conséquent, vous devez échantillonner à partir de cette distribution. Jetez un coup d'oeil à la méthode `self.evaluate()` dans la classe `BaseAgent`.\n",
        "\n",
        "* Gardez à l'esprit que le réseau de neurones de politiques prend un batch d'états comme entrée, par opposition à un état unique. C'est par conception, et c'est une pratique bonne et commune, cependant, vous devez garder un œil sur les dimensions d'entrée/sortie.\n",
        "\n",
        "* Vous avez probablement besoin d'appeler la méthode `BaseAgent._make_returns` pour obtenir le return."
      ]
    },
    {
      "cell_type": "markdown",
      "metadata": {
        "id": "dxnuCukrV4AT"
      },
      "source": [
        "#### code source"
      ]
    },
    {
      "cell_type": "code",
      "execution_count": null,
      "metadata": {
        "id": "BL6rFEX-fkix"
      },
      "outputs": [],
      "source": [
        "\n",
        "# Insert your code and run this cell\n",
        "class REINFORCEv1Agent(BaseAgent):\n",
        "    \"\"\" REINFORCE agent.\n",
        "    \"\"\"\n",
        "    \n",
        "    def optimize_model(self, n_episodes: int):\n",
        "        \"\"\"  \n",
        "        \"\"\"\n",
        "\n",
        "        # ======================================================================\n",
        "\n",
        "        # INSÉREZ VOTRE CODE ICI !\n",
        "        total_rewards = []\n",
        "        sum_ti_length = 0\n",
        "        loss = 0\n",
        "\n",
        "\n",
        "        for ep in range(n_episodes):\n",
        "\n",
        "          log_probs = []\n",
        "          rewards = []\n",
        "          states = []\n",
        "          actions = []          \n",
        "\n",
        "          observation, _ = self.env.reset(seed=self.seed)\n",
        "          # print(observation)\n",
        "          observation = torch.tensor(observation, dtype=torch.float)[None, :]\n",
        "          done = False\n",
        "              \n",
        "          while not done:\n",
        "              probs = self.policy_model.forward(observation)\n",
        "              action = torch.multinomial(probs, 1)[0] # draw samples from dist\n",
        "\n",
        "              log_probs.append(probs[0][action])\n",
        "              \n",
        "              observation, reward, terminated, truncated, info = self.env.step(int(action))\n",
        "              done = terminated or truncated\n",
        "\n",
        "        \n",
        "              observation = torch.tensor(observation, dtype=torch.float)[None, :]\n",
        "\n",
        "              rewards.append(reward)\n",
        "\n",
        "              \n",
        "              sum_ti_length += 1\n",
        "\n",
        "\n",
        "          d_rewards = self._make_returns(rewards)\n",
        "          total_rewards.append(d_rewards[0])\n",
        "          \n",
        "          d_rewards = torch.tensor(d_rewards, dtype=torch.float)[:, None]\n",
        "\n",
        "          loss += torch.sum(-d_rewards * torch.log(torch.stack(log_probs)))\n",
        "          \n",
        "        \n",
        "        total_rewards = np.array(total_rewards)\n",
        "        loss /= sum_ti_length\n",
        "        \n",
        "        # ======================================================================\n",
        "        \n",
        "        self.policy_optimizer.zero_grad()\n",
        "        loss.backward()\n",
        "        self.policy_optimizer.step()\n",
        "        return total_rewards"
      ]
    },
    {
      "cell_type": "code",
      "execution_count": null,
      "metadata": {
        "colab": {
          "base_uri": "https://localhost:8080/",
          "height": 1000
        },
        "id": "BQPrE62FpfJQ",
        "outputId": "f4394d59-c965-405f-99a0-8e6b8414aed7"
      },
      "outputs": [
        {
          "output_type": "stream",
          "name": "stdout",
          "text": [
            "Iteration 1/100: rewards 19.6 +/- 7.6\n",
            "Iteration 2/100: rewards 24.66 +/- 15.75\n",
            "Iteration 3/100: rewards 24.76 +/- 12.94\n",
            "Iteration 4/100: rewards 25.78 +/- 12.48\n",
            "Iteration 5/100: rewards 25.72 +/- 17.49\n",
            "Iteration 6/100: rewards 29.22 +/- 18.09\n",
            "Iteration 7/100: rewards 26.38 +/- 12.72\n",
            "Iteration 8/100: rewards 28.14 +/- 13.78\n",
            "Iteration 9/100: rewards 32.66 +/- 19.52\n",
            "Iteration 10/100: rewards 37.16 +/- 20.81\n",
            "Iteration 11/100: rewards 42.2 +/- 22.84\n",
            "Iteration 12/100: rewards 43.8 +/- 18.63\n",
            "Iteration 13/100: rewards 49.12 +/- 22.14\n",
            "Iteration 14/100: rewards 55.44 +/- 23.17\n",
            "Iteration 15/100: rewards 67.08 +/- 29.38\n",
            "Iteration 16/100: rewards 64.58 +/- 20.08\n",
            "Iteration 17/100: rewards 66.98 +/- 20.54\n",
            "Iteration 18/100: rewards 68.36 +/- 20.84\n",
            "Iteration 19/100: rewards 71.66 +/- 22.18\n",
            "Iteration 20/100: rewards 83.82 +/- 29.47\n",
            "Iteration 21/100: rewards 85.32 +/- 31.25\n",
            "Iteration 22/100: rewards 84.78 +/- 24.04\n",
            "Iteration 23/100: rewards 86.48 +/- 26.61\n",
            "Iteration 24/100: rewards 91.12 +/- 25.82\n",
            "Iteration 25/100: rewards 88.96 +/- 25.22\n",
            "Iteration 26/100: rewards 97.58 +/- 30.02\n",
            "Iteration 27/100: rewards 99.72 +/- 34.17\n",
            "Iteration 28/100: rewards 93.28 +/- 32.07\n",
            "Iteration 29/100: rewards 92.82 +/- 30.6\n",
            "Iteration 30/100: rewards 100.24 +/- 29.84\n",
            "Iteration 31/100: rewards 102.64 +/- 26.18\n",
            "Iteration 32/100: rewards 106.34 +/- 22.73\n",
            "Iteration 33/100: rewards 112.86 +/- 36.79\n",
            "Iteration 34/100: rewards 116.86 +/- 36.18\n",
            "Iteration 35/100: rewards 124.86 +/- 39.01\n",
            "Iteration 36/100: rewards 137.04 +/- 49.34\n",
            "Iteration 37/100: rewards 138.1 +/- 39.64\n",
            "Iteration 38/100: rewards 145.54 +/- 50.13\n",
            "Iteration 39/100: rewards 156.96 +/- 37.75\n",
            "Iteration 40/100: rewards 185.08 +/- 55.03\n",
            "Iteration 41/100: rewards 197.7 +/- 69.38\n",
            "Iteration 42/100: rewards 236.48 +/- 76.55\n",
            "Iteration 43/100: rewards 269.28 +/- 60.84\n",
            "Iteration 44/100: rewards 252.3 +/- 72.88\n",
            "Iteration 45/100: rewards 305.72 +/- 75.96\n",
            "Iteration 46/100: rewards 347.34 +/- 76.7\n",
            "Iteration 47/100: rewards 396.12 +/- 76.36\n",
            "Iteration 48/100: rewards 443.26 +/- 78.47\n",
            "Iteration 49/100: rewards 487.36 +/- 30.71\n",
            "Iteration 50/100: rewards 483.06 +/- 48.68\n",
            "Iteration 51/100: rewards 500.0 +/- 0.0\n",
            "Iteration 52/100: rewards 494.54 +/- 27.44\n",
            "Iteration 53/100: rewards 490.6 +/- 34.37\n",
            "Iteration 54/100: rewards 500.0 +/- 0.0\n",
            "Iteration 55/100: rewards 500.0 +/- 0.0\n",
            "Iteration 56/100: rewards 500.0 +/- 0.0\n",
            "Iteration 57/100: rewards 500.0 +/- 0.0\n",
            "Iteration 58/100: rewards 500.0 +/- 0.0\n",
            "Iteration 59/100: rewards 500.0 +/- 0.0\n",
            "Iteration 60/100: rewards 500.0 +/- 0.0\n",
            "Iteration 61/100: rewards 500.0 +/- 0.0\n",
            "Iteration 62/100: rewards 498.22 +/- 9.25\n",
            "Iteration 63/100: rewards 498.7 +/- 8.68\n",
            "Iteration 64/100: rewards 500.0 +/- 0.0\n",
            "Iteration 65/100: rewards 499.08 +/- 5.9\n",
            "Iteration 66/100: rewards 496.78 +/- 22.54\n",
            "Iteration 67/100: rewards 500.0 +/- 0.0\n",
            "Iteration 68/100: rewards 498.42 +/- 9.98\n",
            "Iteration 69/100: rewards 499.86 +/- 0.98\n",
            "Iteration 70/100: rewards 499.96 +/- 0.28\n",
            "Iteration 71/100: rewards 500.0 +/- 0.0\n",
            "Iteration 72/100: rewards 500.0 +/- 0.0\n",
            "Iteration 73/100: rewards 500.0 +/- 0.0\n",
            "Iteration 74/100: rewards 500.0 +/- 0.0\n",
            "Iteration 75/100: rewards 500.0 +/- 0.0\n",
            "Iteration 76/100: rewards 500.0 +/- 0.0\n",
            "Iteration 77/100: rewards 500.0 +/- 0.0\n",
            "Iteration 78/100: rewards 500.0 +/- 0.0\n",
            "Iteration 79/100: rewards 496.52 +/- 14.33\n",
            "Iteration 80/100: rewards 439.44 +/- 52.28\n",
            "Iteration 81/100: rewards 385.6 +/- 45.19\n",
            "Iteration 82/100: rewards 383.78 +/- 55.7\n",
            "Iteration 83/100: rewards 408.6 +/- 49.58\n",
            "Iteration 84/100: rewards 485.82 +/- 28.3\n",
            "Iteration 85/100: rewards 500.0 +/- 0.0\n",
            "Iteration 86/100: rewards 500.0 +/- 0.0\n",
            "Iteration 87/100: rewards 500.0 +/- 0.0\n",
            "Iteration 88/100: rewards 500.0 +/- 0.0\n",
            "Iteration 89/100: rewards 500.0 +/- 0.0\n",
            "Iteration 90/100: rewards 500.0 +/- 0.0\n",
            "Iteration 91/100: rewards 500.0 +/- 0.0\n",
            "Iteration 92/100: rewards 500.0 +/- 0.0\n",
            "Iteration 93/100: rewards 500.0 +/- 0.0\n",
            "Iteration 94/100: rewards 500.0 +/- 0.0\n",
            "Iteration 95/100: rewards 500.0 +/- 0.0\n",
            "Iteration 96/100: rewards 500.0 +/- 0.0\n",
            "Iteration 97/100: rewards 500.0 +/- 0.0\n",
            "Iteration 98/100: rewards 500.0 +/- 0.0\n",
            "Iteration 99/100: rewards 500.0 +/- 0.0\n",
            "Iteration 100/100: rewards 500.0 +/- 0.0\n"
          ]
        },
        {
          "output_type": "display_data",
          "data": {
            "text/plain": [
              "<Figure size 432x288 with 1 Axes>"
            ],
            "image/png": "[encoded data removed]"
          },
          "metadata": {
            "needs_background": "light"
          }
        }
      ],
      "source": [
        "# Vous serez noté sur base de la sortie de cette cellule, donc veuillez l'exécuter.\n",
        "# Voici un exemple de configuration adaptée à la question ci-dessus. Gardez la même configuration.\n",
        "config = {\n",
        "    'env_id': dict(id=\"CartPole-v1\"),\n",
        "    'env_id_monitor': dict(id=\"CartPole-v1\", render_mode=\"rgb_array_list\", disable_env_checker=True),\n",
        "    'seed': 8953,\n",
        "    'gamma': 1.0,\n",
        "    'policy_layers': [16, 32],\n",
        "    'policy_learning_rate': 1e-2,\n",
        "    'use_baseline': False,\n",
        "    'policy_activation':nn.ReLU\n",
        "}\n",
        "agent = REINFORCEv1Agent(config)\n",
        "REINFORCEv1_rewards = agent.train(n_episodes=50, n_iterations=100)"
      ]
    },
    {
      "cell_type": "code",
      "execution_count": null,
      "metadata": {
        "colab": {
          "base_uri": "https://localhost:8080/",
          "height": 518
        },
        "id": "eHb5PiQvq2p4",
        "outputId": "ceb71c30-bf32-4150-be8f-fea8ae1f4baa"
      },
      "outputs": [
        {
          "output_type": "stream",
          "name": "stdout",
          "text": [
            "Moviepy - Building video ./gym-results.mp4.\n",
            "Moviepy - Writing video ./gym-results.mp4\n",
            "\n"
          ]
        },
        {
          "output_type": "stream",
          "name": "stderr",
          "text": []
        },
        {
          "output_type": "stream",
          "name": "stdout",
          "text": [
            "Moviepy - Done !\n",
            "Moviepy - video ready ./gym-results.mp4\n"
          ]
        },
        {
          "output_type": "display_data",
          "data": {
            "text/plain": [
              "<IPython.core.display.HTML object>"
            ],
            "text/html": [
              "<video alt=\"gym-results.mp4\" autoplay \n",
              "                      loop controls style=\"height: 400px;\">\n",
              "                      <source src=\"data:video/mp4;base64,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\" type=\"video/mp4\" />\n",
              "                 </video>"
            ]
          },
          "metadata": {}
        },
        {
          "output_type": "stream",
          "name": "stdout",
          "text": [
            "Reward: 500.0\n"
          ]
        }
      ],
      "source": [
        "agent.evaluate()"
      ]
    },
    {
      "cell_type": "code",
      "execution_count": null,
      "metadata": {
        "id": "ITA91PK3R_kz"
      },
      "outputs": [],
      "source": []
    },
    {
      "cell_type": "markdown",
      "metadata": {
        "id": "8lEU9R64SAd0"
      },
      "source": [
        "### Q 1.1. Énumérez les elements de différence qui existent entre les algorithmes REINFORCE et DQN **[10 points]**."
      ]
    },
    {
      "cell_type": "markdown",
      "source": [],
      "metadata": {
        "id": "e1jlOEXi-zbG"
      }
    },
    {
      "cell_type": "code",
      "execution_count": null,
      "metadata": {
        "id": "0zmWQwc3OMCg"
      },
      "outputs": [],
      "source": []
    },
    {
      "cell_type": "markdown",
      "metadata": {
        "id": "4Q39ciaZzSVX"
      },
      "source": [
        "# Question 2. REINFORCE avec baseline"
      ]
    },
    {
      "cell_type": "markdown",
      "metadata": {
        "id": "jfuQhj4N02Ub"
      },
      "source": [
        "REINFORCE est réputé d'avoir une variance assez grande qui peut causer d'instabilité lors de l'apprentissage. L'utilisation d'une baseline permet de reduire sa variance. Dans cette version de l'agent, nous allons considérer $\\left(G_t - B(s_t) \\right)$ comme estimations non biaisées de $Q^{π_θ} (s, a)$. L'estimateur de REINFORCE peut être exprimé comme le gradient de la fonction objectif suivante :\n",
        "\n",
        "&emsp;&emsp;$J(\\theta) = \\frac{1}{\\sum T_i}\\sum_{j=1}^{|D|} \\sum_{t=1}^{T_j}\\left(G_t^j - B(s_t^j)\\right)ln\\pi_\\theta (a_t^j|s_t^j)$ \\\\\n",
        "\n",
        "Avec \n",
        "\n",
        "$G_t^j=\\sum_{k = 0}^{T_j} \\gamma^{k} R_{t+k+1}^j$ et  $B(s_t)=V(s_t)$, la baseline qui est un estimateur de la valuer de l'état (utilité d'un état) à l'intant t dans la trajectoire.\n",
        "\n",
        "Notez que $B_\\phi(s_t)$ est un réseau de neurones qui estime la valeur d'un état. Il est paramétré par $\\phi$. \n",
        "\n",
        "Implémentation de  `optimize_model`. Cette méthode est appelée à chaque itération de l’entraînement et est chargée de :\n",
        "\n",
        "1. collecter un ensemble de données d'épisodes\n",
        "2. calculer l'espérance du gradient de la politique.\n",
        ">Notez que vous ne calculerez que la valeur de la perte (loss value).\n",
        "3. En plus ici, vous devrez calculer la perte de la fonction d'utilité des états et appeler `auto-diff` sur cette perte pour mettre à jour les paramètres du réseau d'utilité-état.\n",
        "&emsp;&emsp;$L_V(\\phi) = \\frac{1}{\\sum T_i}\\sum_{j=1}^{|D|} \\sum_{t=1}^{T_j}\\left(G_t^j - B(s_t^j)\\right)^2$ \\\\\n",
        "\n",
        "> Ici, vous avez accès et devez utiliser `self.value_model` et `self.value_optimizer` et `self.value_optimizer`, et vous devez former une perte pour mettre à jour la fonction d'utilité-état. \n",
        "\n",
        "*ASTUCE* :\n",
        "\n",
        "* Vous devez utiliser la fonction `.detach()` de torch pour stoper le re-flow du gradients."
      ]
    },
    {
      "cell_type": "markdown",
      "metadata": {
        "id": "3KGBn5y8T82E"
      },
      "source": [
        "#### code source:"
      ]
    },
    {
      "cell_type": "code",
      "execution_count": null,
      "metadata": {
        "id": "2eHeqfd3zaKZ"
      },
      "outputs": [],
      "source": [
        "# Insert your code and run this cell\n",
        "class REINFORCEv2PlusBaselineAgent(BaseAgent):\n",
        "    \"\"\" Baseline Agent: \n",
        "        Here we try to reduce the variance by introducing a baseline, which is \n",
        "        the value function in this case.\n",
        "    \"\"\"\n",
        "    \n",
        "    def optimize_model(self, n_episodes: int):\n",
        "        \"\"\" VOUS DEVEZ IMPLÉMENTER CETTE MÉTHODE \n",
        "        \"\"\"\n",
        "        # ======================================================================\n",
        "\n",
        "          # INSEREZ VOTRE CODE ICI !\n",
        "        total_rewards = []\n",
        "        sum_ti_length = 0\n",
        "        policy_loss = 0\n",
        "        value_loss = 0\n",
        "\n",
        "\n",
        "        for ep in range(n_episodes):\n",
        "\n",
        "          log_probs = []\n",
        "          rewards = []\n",
        "          states = []\n",
        "          actions = []          \n",
        "\n",
        "          observation, _ = self.env.reset(seed=self.seed)\n",
        "          observation = torch.tensor(observation, dtype=torch.float)[None, :]\n",
        "          states.append(observation)\n",
        "\n",
        "          reward_episode = 0\n",
        "          done = False\n",
        "              \n",
        "          while not done:\n",
        "              probs = self.policy_model.forward(observation)\n",
        "              action = torch.multinomial(probs, 1)[0] # draw samples from dist\n",
        "\n",
        "              log_probs.append(probs[0][action])\n",
        "\n",
        "              observation, reward, terminated, truncated, info = self.env.step(int(action))\n",
        "              observation = torch.tensor(observation, dtype=torch.float)[None, :]\n",
        "              done = terminated or truncated\n",
        "            \n",
        "              states.append(observation)\n",
        "\n",
        "              reward_episode += reward\n",
        "\n",
        "              rewards.append(reward)\n",
        "              sum_ti_length += 1\n",
        "\n",
        "          d_rewards = self._make_returns(rewards)\n",
        "          total_rewards.append(d_rewards[0])\n",
        "          \n",
        "          d_rewards = torch.tensor(d_rewards, dtype=torch.float)[:, None]\n",
        "          states = torch.stack(states[:-1]) \n",
        "\n",
        "          \n",
        "          states_values = self.value_model(states.squeeze(1))\n",
        "\n",
        "          value_loss += torch.sum((d_rewards - states_values) ** 2)\n",
        "\n",
        "          advantages = d_rewards - states_values.detach()\n",
        "\n",
        "          \n",
        "\n",
        "          log_probs = torch.log(torch.stack(log_probs))\n",
        "\n",
        "          policy_loss += torch.sum(- advantages * log_probs)\n",
        "          \n",
        "        \n",
        "        total_rewards = np.array(total_rewards)\n",
        "        policy_loss /= sum_ti_length\n",
        "        value_loss /= sum_ti_length\n",
        "        # ======================================================================\n",
        "        \n",
        "        self.policy_optimizer.zero_grad()\n",
        "        policy_loss.backward()\n",
        "        self.policy_optimizer.step()\n",
        "\n",
        "        # additionally we update the value network parameters\n",
        "        self.value_optimizer.zero_grad()\n",
        "        value_loss.backward()\n",
        "        self.value_optimizer.step()\n",
        "        return total_rewards\n",
        "   "
      ]
    },
    {
      "cell_type": "markdown",
      "metadata": {
        "id": "CepMmxFSUDtb"
      },
      "source": [
        "#### Exécution"
      ]
    },
    {
      "cell_type": "code",
      "execution_count": null,
      "metadata": {
        "id": "AO1DViFz5d1d"
      },
      "outputs": [],
      "source": [
        "# Vous serez noté sur base de la sortie de cette cellule, donc veuillez l'exécuter.\n",
        "# Voici un exemple de configuration adaptée à la question ci-dessus. Gardez la même configuration.\n",
        "\n",
        "config = {\n",
        "    'env_id': dict(id=\"CartPole-v1\"),\n",
        "    'env_id_monitor': dict(id=\"CartPole-v1\", render_mode=\"rgb_array_list\", disable_env_checker=True),\n",
        "    'seed': 8953,\n",
        "    'gamma': 1.0,\n",
        "    'policy_layers': [16, 32],\n",
        "    'policy_learning_rate': 1e-2,\n",
        "    'use_baseline': True,\n",
        "    'value_layers': [16, 32, 8],\n",
        "    'value_learning_rate': 5e-3,\n",
        "    'policy_activation':nn.ReLU,\n",
        "    'value_activation':nn.ReLU,\n",
        "}\n",
        "agent = REINFORCEv2PlusBaselineAgent(config)\n",
        "REINFORCEv2PlusBaselineAgent_rewards = agent.train(n_episodes=50, n_iterations=100)\n",
        "plt.rcParams['figure.figsize'] = [10, 10]"
      ]
    },
    {
      "cell_type": "code",
      "execution_count": null,
      "metadata": {
        "colab": {
          "base_uri": "https://localhost:8080/",
          "height": 518
        },
        "id": "TC-q7E1I6x1K",
        "outputId": "3bbacd4e-9080-4d1f-88e6-3a3202cb29fc"
      },
      "outputs": [
        {
          "output_type": "stream",
          "name": "stdout",
          "text": [
            "Moviepy - Building video ./gym-results.mp4.\n",
            "Moviepy - Writing video ./gym-results.mp4\n",
            "\n"
          ]
        },
        {
          "output_type": "stream",
          "name": "stderr",
          "text": []
        },
        {
          "output_type": "stream",
          "name": "stdout",
          "text": [
            "Moviepy - Done !\n",
            "Moviepy - video ready ./gym-results.mp4\n"
          ]
        },
        {
          "output_type": "display_data",
          "data": {
            "text/plain": [
              "<IPython.core.display.HTML object>"
            ],
            "text/html": [
              "<video alt=\"gym-results.mp4\" autoplay \n",
              "                      loop controls style=\"height: 400px;\">\n",
              "                      <source src=\"data:video/mp4;base64,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\" type=\"video/mp4\" />\n",
              "                 </video>"
            ]
          },
          "metadata": {}
        },
        {
          "output_type": "stream",
          "name": "stdout",
          "text": [
            "Reward: 500.0\n"
          ]
        }
      ],
      "source": [
        "# Vous serez noté sur base de la sortie de cette cellule, donc veuillez l'exécuter.\n",
        "agent.evaluate()"
      ]
    },
    {
      "cell_type": "code",
      "execution_count": null,
      "metadata": {
        "id": "9aVF-FD87MCC"
      },
      "outputs": [],
      "source": []
    },
    {
      "cell_type": "markdown",
      "metadata": {
        "id": "B0WpOyIc7NXr"
      },
      "source": [
        "### Question 2.1. \n",
        "\n",
        "La cellule ci-dessous affiche sur un même graphique les récompenses pour les deux types d'agents : `REINFORCE` et `REINFORCE+B`. Veuillez commenter l'effet de l'introduction d'une baseline sur la variance de récompenses. Observez-vous autre chose sur les récompenses, au delà de la variance? **[20 points]**"
      ]
    },
    {
      "cell_type": "code",
      "execution_count": null,
      "metadata": {
        "id": "ouB4RHxPAoWW"
      },
      "outputs": [],
      "source": [
        "# Vous serez noté sur base de la sortie de cette cellule, donc veuillez l'exécuter.\n",
        "fig, ax = plt.subplots()\n",
        "BaseAgent.plot_rewards(REINFORCEv1_rewards, ax)\n",
        "BaseAgent.plot_rewards(REINFORCEv2PlusBaselineAgent_rewards, ax)\n",
        "#plt.rcParams['figure.figsize'] = [10, 10]\n",
        "plt.legend(labels=['REINFORCEv1', 'REINFORCEPlusBaselineAgent'])"
      ]
    },
    {
      "cell_type": "markdown",
      "metadata": {
        "id": "_esKkKp--evb"
      },
      "source": [
        "### Question 2.2. \n",
        "\n",
        "Vous allez maintenant afficher sur un même graphique et comparer le comportement de l'agent `REINFORCE+B` avec différentes valeur d'escompte\n",
        "$\\gamma \\in \\{0.975, 0.99, 0.995, 1\\}$.\n",
        "Veuillez rapporter vos observations sur le résultat et expliquer pourquoi certaines valeurs d'escompte ne sont pas appropriées. **[20 points]**"
      ]
    },
    {
      "cell_type": "markdown",
      "metadata": {
        "id": "BXWA8yOfVjsv"
      },
      "source": [
        "#### code"
      ]
    },
    {
      "cell_type": "code",
      "execution_count": null,
      "metadata": {
        "id": "Trit6mg-AwQC"
      },
      "outputs": [],
      "source": [
        "#===============================================================================\n",
        "# INSEREZ VOTRE CODE ICI\n",
        "\n",
        "\n",
        "\n",
        "#==============================================================================="
      ]
    },
    {
      "cell_type": "markdown",
      "source": [
        "# Q3. Actor-Critic Agent\n",
        " \n",
        "\n",
        "Implémentation d'un agent `one-step Actor-Critic` ci-dessous avec le calcul de gradient de la politique suivant.\n",
        "\n",
        "&emsp;&emsp; $\\nabla_\\theta J(\\theta) = \\sum_j \\sum_t (G_{t:t+1}^j - V(s_t^j)) \\nabla_\\theta ln\\pi_\\theta (a_t^j|s_t^j)$ \\\\\n",
        "avec $G_{t:t+1}^j= R_t + \\gamma V(s_{t+1}^j)$ est la récompense cumulée tronquée calculé à partir de l'état actuel, $s_t^j$ pour l'épisode $j$. \\\\\n",
        "\n",
        "\n",
        "\n",
        "\n",
        "Le réseau critique doit être un estimateur de la fonction d'utilité des état."
      ],
      "metadata": {
        "id": "WI0qCENCkiVz"
      }
    },
    {
      "cell_type": "markdown",
      "metadata": {
        "id": "WEV1BLDsRCNM"
      },
      "source": [
        "### Qn 3.1 : Bien que l'agent précédent `REINFORCEv2+B` ait utilisé un réseau d'estimateurs de valeur d'utilité des états similaire à celui de l'agent Actor-Critic, pourquoi n'est-il pas appelé une méthode Actor-Critic ? **[20 points]**"
      ]
    },
    {
      "cell_type": "code",
      "execution_count": null,
      "metadata": {
        "id": "JxHLFCd0ckvf"
      },
      "outputs": [],
      "source": [
        "class ActorCriticAgent(BaseAgent):\n",
        "    \"\"\" A2C Agent: Actor-Critic\n",
        "        Here we try to FURTHER reduce the variance via bootstrapping.\n",
        "    \"\"\"\n",
        "    \n",
        "    def optimize_model(self, n_episodes: int):\n",
        "        \"\"\" YOU NEED TO IMPLEMENT THIS METHOD \n",
        "\n",
        "            This method is called at each training iteration and is responsible for \n",
        "            (i) gathering a dataset of episodes\n",
        "            (ii) computing the expectation of the policy gradient.\n",
        "                 Note that you will only be computing the loss value\n",
        "            In addition implement the critic network\n",
        "            HINT:\n",
        "                * If you've made it this far you don't need another hint!\n",
        "        \"\"\"\n",
        "        # ======================================================================\n",
        "\n",
        "          # YOUR CODE HERE !\n",
        "\n",
        "        total_rewards = []\n",
        "        policy_loss = 0\n",
        "        value_loss = 0\n",
        "        sum_ti_length = 0\n",
        "\n",
        "        huber_loss = torch.nn.HuberLoss(reduction='sum')\n",
        "\n",
        "        for ep in range(n_episodes):\n",
        "\n",
        "          log_probs = []\n",
        "          rewards = []\n",
        "          states = []\n",
        "          actions = []          \n",
        "\n",
        "          observation, _ = self.env.reset(seed=self.seed)\n",
        "          observation = torch.tensor(observation, dtype=torch.float)[None, :]\n",
        "          states.append(observation)\n",
        "\n",
        "          reward_episode = 0\n",
        "          done = False\n",
        "              \n",
        "          while not done:\n",
        "              probs = self.policy_model.forward(observation)\n",
        "              action = torch.multinomial(probs, 1)[0] # draw samples from dist\n",
        "\n",
        "              log_probs.append(probs[0][action])\n",
        "\n",
        "              observation, reward, terminated, truncated, info = self.env.step(int(action))\n",
        "              observation = torch.tensor(observation, dtype=torch.float)[None, :]\n",
        "              done = terminated or truncated\n",
        "            \n",
        "              states.append(observation)\n",
        "\n",
        "              reward_episode += reward\n",
        "\n",
        "              rewards.append(reward)\n",
        "              sum_ti_length += 1\n",
        "\n",
        "          d_rewards = self._make_returns(rewards)\n",
        "          total_rewards.append(d_rewards[0])\n",
        "          d_rewards = torch.tensor(d_rewards, dtype=torch.float)[:, None]\n",
        "          \n",
        "          states = torch.stack(states[:-1])  \n",
        "          \n",
        "          \n",
        "\n",
        "          states_values = self.value_model(states.squeeze(1))\n",
        "          states_values_prime = torch.cat([states_values[1:],\n",
        "                                    torch.tensor([[0]], dtype=torch.float)])\n",
        "          \n",
        "          states_values_prime *= self.gamma\n",
        "        \n",
        "          \n",
        "          rewards = torch.tensor(rewards, dtype=torch.float)\n",
        "          \n",
        "\n",
        "          delta = rewards.unsqueeze(-1) + states_values_prime.detach() - states_values.detach()\n",
        "          value_loss += torch.mean((states_values - (rewards.unsqueeze(-1) + states_values_prime)) ** 2)  \n",
        "          \n",
        "          log_probs = torch.log(torch.stack(log_probs))\n",
        "\n",
        "          policy_loss += - torch.sum(delta * log_probs)\n",
        "          \n",
        "          \n",
        "        \n",
        "        total_rewards = np.array(total_rewards)\n",
        "        policy_loss /= sum_ti_length\n",
        "        value_loss /= sum_ti_length\n",
        "\n",
        "        # ======================================================================\n",
        "        \n",
        "        self.policy_optimizer.zero_grad()\n",
        "        policy_loss.backward()\n",
        "        self.policy_optimizer.step()\n",
        "\n",
        "        self.value_optimizer.zero_grad()\n",
        "        value_loss.backward()\n",
        "        self.value_optimizer.step()\n",
        "        return total_rewards\n",
        "   "
      ]
    },
    {
      "cell_type": "code",
      "execution_count": null,
      "metadata": {
        "id": "p9SSfsKEcrvY"
      },
      "outputs": [],
      "source": [
        "# Vous serez noté sur base de la sortie de cette cellule, donc veuillez l'exécuter.\n",
        "# Voici un exemple de configuration adaptée à la question ci-dessus. Gardez la même configuration.\n",
        "\n",
        "config = {\n",
        "    'env_id': dict(id=\"CartPole-v1\"),\n",
        "    'env_id_monitor': dict(id=\"CartPole-v1\", render_mode=\"rgb_array_list\", disable_env_checker=True),\n",
        "    'seed': 8953,\n",
        "    'gamma': 1.0,\n",
        "    'policy_layers': [16, 8],\n",
        "    'policy_learning_rate': 1e-2,\n",
        "    'use_baseline': True,\n",
        "    'value_layers': [16, 8],\n",
        "    'value_learning_rate': 1e-1,\n",
        "    'policy_activation':nn.ReLU,\n",
        "    'value_activation':nn.ReLU,\n",
        "}\n",
        "\n",
        "agent = ActorCriticAgent(config)\n",
        "ActorCritic_sum_rewards = agent.train(n_episodes=64, n_iterations=100)"
      ]
    },
    {
      "cell_type": "code",
      "execution_count": null,
      "metadata": {
        "id": "NPYbeD4YhoOC"
      },
      "outputs": [],
      "source": [
        "# Vous serez noté sur base de la sortie de cette cellule, donc veuillez l'exécuter.\n",
        "agent.evaluate()"
      ]
    },
    {
      "cell_type": "code",
      "source": [],
      "metadata": {
        "id": "AcCbQnE9nLuG"
      },
      "execution_count": null,
      "outputs": []
    },
    {
      "cell_type": "markdown",
      "source": [
        "### Q3.2. Affichez sur un même graphique les récompenses des trois agents(REINFORCE, REINFORCE+B et Actor-Critic) et commentez le résultat. **[15 points]**"
      ],
      "metadata": {
        "id": "DGyNDAIXnMxJ"
      }
    },
    {
      "cell_type": "code",
      "execution_count": null,
      "metadata": {
        "id": "Ub_7mJOvn27_"
      },
      "outputs": [],
      "source": [
        "# insérez votre code ici\n",
        "# Vous serez noté sur base de la sortie de cette cellule, donc veuillez l'exécuter.\n",
        "\n",
        "\n"
      ]
    },
    {
      "cell_type": "markdown",
      "source": [
        "### Q3.3 Faites la recherche de meilleurs hyper-paramètres de l'agent Actor-Critic, ensuite entraînez l'agent avec les paramètres trouvés **[15 points]**.  "
      ],
      "metadata": {
        "id": "qZ7zlUH4BkKs"
      }
    },
    {
      "cell_type": "code",
      "source": [
        "# insérez votre code ici\n",
        "# Vous serez noté sur base de la sortie de cette cellule, donc veuillez l'exécuter.\n"
      ],
      "metadata": {
        "id": "C469VukuCA_F"
      },
      "execution_count": null,
      "outputs": []
    },
    {
      "cell_type": "code",
      "source": [],
      "metadata": {
        "id": "1Snmflo0CDnG"
      },
      "execution_count": null,
      "outputs": []
    }
  ],
  "metadata": {
    "accelerator": "GPU",
    "colab": {
      "collapsed_sections": [
        "7VUveXZ8dton",
        "DT2ZqHscDkmn",
        "w6YgJZ-duMaG",
        "Fp-OKrUSuZEm",
        "d8pGu_Wyu943",
        "dxnuCukrV4AT",
        "3KGBn5y8T82E",
        "CepMmxFSUDtb",
        "BXWA8yOfVjsv"
      ],
      "provenance": []
    },
    "gpuClass": "standard",
    "kernelspec": {
      "display_name": "Python 3",
      "name": "python3"
    },
    "language_info": {
      "name": "python"
    }
  },
  "nbformat": 4,
  "nbformat_minor": 0
}