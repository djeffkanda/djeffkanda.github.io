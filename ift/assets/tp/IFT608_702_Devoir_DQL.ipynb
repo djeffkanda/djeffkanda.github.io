{
  "nbformat": 4,
  "nbformat_minor": 0,
  "metadata": {
    "colab": {
      "provenance": []
    },
    "kernelspec": {
      "name": "python3",
      "display_name": "Python 3"
    },
    "language_info": {
      "name": "python"
    },
    "accelerator": "GPU",
    "gpuClass": "standard"
  },
  "cells": [
    {
      "cell_type": "code",
      "execution_count": null,
      "metadata": {
        "id": "hYRz8jSMHO1P"
      },
      "outputs": [],
      "source": []
    },
    {
      "cell_type": "markdown",
      "source": [
        "# IFT608: Devoir sur l'apprentissage par renforcement (DQN)\n",
        "\n",
        "    \n",
        "**Date de remise :** \n",
        "\n",
        "Le but de ce devoir est d'expérimenter la méthode deep Q-Learning.\n",
        "\n",
        "Les objectifs seront de compléter les implémentations d'agents RL qui apprendront une politique paramétrée en utilisant des réseaux neuronaux pour résoudre la tâche [CartPole](https://gymnasium.farama.org/environments/classic_control/cart_pole/). La tâche CartPole consiste à apprendre à un agent comment équilibrer un poteau sur le chariot sans tomber pendant un temps maximum.\n",
        "\n",
        "Vous analyserez également le comportement de votre agent sur différentes méthodes qui définissent sa politique à l'aide de graphiques des récompenses obtenues.\n",
        "\n",
        "![Cartpole](https://gymnasium.farama.org/_images/cart_pole.gif)\n",
        "\n",
        "[Vous pouvez trouver plus de details sur cet environement ici](https://gymnasium.farama.org/environments/classic_control/cart_pole/)"
      ],
      "metadata": {
        "id": "rJthdv2VHUE5"
      }
    },
    {
      "cell_type": "markdown",
      "source": [
        "## Rappel\n",
        "\n",
        "![Q-Learning](https://github.com/djeffkanda/djeffkanda.github.io/blob/master/ift/assets/images/qlearning.jpg?raw=true)"
      ],
      "metadata": {
        "id": "hAm2WP_6HnZi"
      }
    },
    {
      "cell_type": "markdown",
      "source": [
        "## Algorithm DQN\n",
        "\n",
        "![algo](https://i.stack.imgur.com/DEmcS.png)"
      ],
      "metadata": {
        "id": "RaRkKmE2_B7o"
      }
    },
    {
      "cell_type": "code",
      "source": [
        "###"
      ],
      "metadata": {
        "id": "NchCBbOdHmW4"
      },
      "execution_count": null,
      "outputs": []
    },
    {
      "cell_type": "markdown",
      "source": [
        "### Installation et importation des librairies "
      ],
      "metadata": {
        "id": "ZXlVJH45Ho_V"
      }
    },
    {
      "cell_type": "code",
      "source": [
        "# install dependecies\n",
        "%%capture\n",
        "!pip install \"gymnasium[all]\"\n",
        "!pip install pyvirtualdisplay\n",
        "\n",
        "!sudo apt-get install xvfb"
      ],
      "metadata": {
        "id": "_-0CEa7VHXw1"
      },
      "execution_count": null,
      "outputs": []
    },
    {
      "cell_type": "code",
      "source": [
        "# type hinting \n",
        "from typing import Sequence, Tuple, Dict, Any, Optional\n",
        "from collections import namedtuple, deque\n",
        "from itertools import count\n",
        "import itertools\n",
        "\n",
        "\n",
        "import numpy as np\n",
        "import random\n",
        "import math\n",
        "\n",
        "# torch stuff\n",
        "import torch\n",
        "import torch.nn as nn\n",
        "import torch.nn.functional as F \n",
        "from torch import optim\n",
        "\n",
        "# env\n",
        "import gymnasium as gym\n",
        "from gymnasium.wrappers.monitoring.video_recorder import VideoRecorder\n",
        "\n",
        "# data manipulation, colab dispaly, and plotting\n",
        "import pandas as pd\n",
        "import matplotlib.pyplot as plt\n",
        "import seaborn as sns\n",
        "from pyvirtualdisplay import Display\n",
        "from IPython import display as ipythondisplay\n",
        "from IPython.display import clear_output\n",
        "\n",
        "# misc util\n",
        "import random, glob, base64, itertools\n",
        "from pathlib import Path\n",
        "from pprint import pprint\n",
        "\n",
        "plt.style.use('seaborn-darkgrid')"
      ],
      "metadata": {
        "id": "tlsAtxMmHjpQ"
      },
      "execution_count": null,
      "outputs": []
    },
    {
      "cell_type": "markdown",
      "source": [
        "### Fonction pour visualiser l'environnement dans colab"
      ],
      "metadata": {
        "id": "P0XgCH5BK0Bp"
      }
    },
    {
      "cell_type": "code",
      "source": [
        "def show_video(directory):\n",
        "    html = []\n",
        "    for mp4 in Path(directory).glob(\"*.mp4\"):\n",
        "        video_b64 = base64.b64encode(mp4.read_bytes())\n",
        "        html.append('''<video alt=\"{}\" autoplay \n",
        "                      loop controls style=\"height: 400px;\">\n",
        "                      <source src=\"data:video/mp4;base64,{}\" type=\"video/mp4\" />\n",
        "                 </video>'''.format(mp4, video_b64.decode('ascii')))\n",
        "    ipythondisplay.display(ipythondisplay.HTML(data=\"<br>\".join(html)))\n",
        "    \n",
        "display = Display(visible=0, size=(1400, 900))\n",
        "display.start(); "
      ],
      "metadata": {
        "id": "lS1XbmZzKvw3"
      },
      "execution_count": null,
      "outputs": []
    },
    {
      "cell_type": "markdown",
      "source": [
        "### Classes de base"
      ],
      "metadata": {
        "id": "aTUw615hH3a1"
      }
    },
    {
      "cell_type": "code",
      "source": [
        "# objects to record transitions\n",
        "\n",
        "Transition = namedtuple('Transition',('state', 'action', 'next_state', 'reward'))\n",
        "class ReplayMemory(object):\n",
        "\n",
        "    def __init__(self, capacity):\n",
        "        self.memory = deque([],maxlen=capacity)\n",
        "\n",
        "    def push(self, *args):\n",
        "        \"\"\"Save a transition\"\"\"\n",
        "        self.memory.append(Transition(*args))\n",
        "\n",
        "    def sample(self, batch_size):\n",
        "        return random.sample(self.memory, batch_size)\n",
        "\n",
        "    def sample_recent(self, batch_size):\n",
        "        return list(itertools.islice(self.memory, len(self) - batch_size, len(self)))\n",
        "\n",
        "    def __len__(self):\n",
        "        return len(self.memory)"
      ],
      "metadata": {
        "id": "43E6mXCqL1EQ"
      },
      "execution_count": null,
      "outputs": []
    },
    {
      "cell_type": "code",
      "source": [
        "# Classe pour construire un modèle\n",
        "class Model(nn.Module):\n",
        "    def __init__(self, features: Sequence[int], fn=nn.ReLU):\n",
        "        \"\"\"Fully-connected Network\n",
        "\n",
        "        Args:\n",
        "            features: a list of ints like: [input_dim, 16, 16, output_dim]\n",
        "        \"\"\"\n",
        "        super(Model, self).__init__()\n",
        "        \n",
        "        layers = []\n",
        "        for i in range(len(features) - 1):\n",
        "            layers.append(\n",
        "                nn.Linear(\n",
        "                    in_features=features[i],\n",
        "                    out_features=features[i + 1],\n",
        "                    )\n",
        "            )\n",
        "            if i != len(features) - 2:\n",
        "                layers.append(fn())\n",
        "        \n",
        "        self.net = nn.Sequential(*layers)\n",
        "        \n",
        "    def forward(self, input):\n",
        "        return self.net(input)"
      ],
      "metadata": {
        "id": "WGfvn1QrH22-"
      },
      "execution_count": null,
      "outputs": []
    },
    {
      "cell_type": "code",
      "source": [
        "# Classe pour un agent de base\n",
        "class BaseAgent(object):\n",
        "  \"\"\" The base agent class function.\n",
        "  \"\"\"\n",
        "\n",
        "  def __init__(self, config: Dict[str, Any]):\n",
        "        \"\"\"\n",
        "        args:\n",
        "            config: configuration dictionary\n",
        "        \"\"\"\n",
        "        self.config = config\n",
        "\n",
        "        # # set seed\n",
        "        # np.random.seed(seed=config['seed'])\n",
        "        # random.seed(config['seed'])\n",
        "        # torch.manual_seed(config['seed'])\n",
        "\n",
        "        # environment\n",
        "        self.seed = config['seed']\n",
        "        self.env = gym.make(**config['env_id'])\n",
        "        self.env_monitor = gym.make(**config['env_id_monitor'])\n",
        "\n",
        "        # build models\n",
        "\n",
        "        self.batch_size = config['batch_size']\n",
        "        self.discount = config['discount']\n",
        "        self.eps_start = config['eps_start']\n",
        "        self.eps_end = config['eps_end']\n",
        "        self.eps_decay = config['eps_decay']\n",
        "        self.tau = config['tau']\n",
        "        self.lr = config['learning_rate']\n",
        "\n",
        "        self.device = torch.device(\"cuda\" if torch.cuda.is_available() else \"cpu\")\n",
        "\n",
        "        self.policy_model = Model(\n",
        "            [self.env.observation_space.shape[0]] + \n",
        "            config['policy_layers'] + # note that these are only the intermediate layers\n",
        "            [self.env.action_space.n], fn=config['policy_activation']\n",
        "        ).to(self.device)\n",
        "\n",
        "        self.target_model = Model(\n",
        "            [self.env.observation_space.shape[0]] + \n",
        "            config['policy_layers'] + # note that these are only the intermediate layers\n",
        "            [self.env.action_space.n], fn=config['policy_activation']\n",
        "        ).to(self.device)\n",
        "        self.target_model.load_state_dict(self.policy_model.state_dict())\n",
        "\n",
        "\n",
        "        self.optimizer = torch.optim.AdamW(\n",
        "            self.policy_model.parameters(), \n",
        "            lr=config['learning_rate'],\n",
        "            amsgrad=True\n",
        "        )\n",
        "\n",
        "        self.memory = ReplayMemory(10000)\n",
        "        self.episode_durations = []\n",
        "        self.steps_done = 0\n",
        "\n",
        "\n",
        "  def plot_durations(self, show_result=False):\n",
        "    plt.figure(1, figsize=(10,15))\n",
        "    durations_t = torch.tensor(self.episode_durations, dtype=torch.float)\n",
        "    if show_result:\n",
        "        plt.title('Result')\n",
        "    else:\n",
        "        plt.clf()\n",
        "        plt.title('Training...')\n",
        "    plt.xlabel('Episode')\n",
        "    plt.ylabel('Duration')\n",
        "    plt.plot(durations_t.numpy())\n",
        "    # Take 100 episode averages and plot them too\n",
        "    if len(durations_t) >= 100:\n",
        "        means = durations_t.unfold(0, 100, 1).mean(1).view(-1)\n",
        "        means = torch.cat((torch.zeros(99), means))\n",
        "        plt.plot(means.numpy())\n",
        "\n",
        "    plt.pause(0.001)  # pause a bit so that plots are updated\n",
        "    if True:\n",
        "        if not show_result:\n",
        "            ipythondisplay.display(plt.gcf())\n",
        "            ipythondisplay.clear_output(wait=True)\n",
        "        else:\n",
        "            ipythondisplay.display(plt.gcf())\n",
        "\n",
        "\n",
        "  def _make_returns(self, rewards: np.ndarray):\n",
        "        \"\"\" Compute the cumulative discounted rewards at each time step\n",
        "\n",
        "        args:\n",
        "            rewards: an array of step rewards\n",
        "\n",
        "        returns:\n",
        "            returns: an array of discounted returns from that timestep onward\n",
        "        \"\"\"\n",
        "        returns = np.zeros_like(rewards)\n",
        "        returns[-1] = rewards[-1]\n",
        "        for t in reversed(range(len(rewards) - 1)):\n",
        "            returns[t] = rewards[t] + self.gamma * returns[t + 1]\n",
        "        return returns\n",
        "\n",
        "  # Method to implement\n",
        "  def optimize_model(self, n_episodes: int) -> np.ndarray:\n",
        "        \"\"\" \n",
        "\n",
        "        args:\n",
        "            n_episodes: number of trajectories in dataset\n",
        "\n",
        "        returns:\n",
        "            returns: the total discounted reward of each trajectory/episode.\n",
        "        \"\"\"\n",
        "        \n",
        "        raise NotImplementedError\n",
        "        \n",
        "  def train(self, n_episodes: int, n_iterations: int, plot: bool = True) -> Sequence[np.ndarray]:\n",
        "        \"\"\" Train.\n",
        "        args:\n",
        "            n_episodes: number of episodes for each gradient step\n",
        "            n_iterations: determine training duration\n",
        "        \"\"\"\n",
        "\n",
        "        raise NotImplementedError\n",
        "        \n",
        "\n",
        "  def get_action(self, state):\n",
        "    sample = random.random()\n",
        "    eps_threshold = self.eps_end + (self.eps_start - self.eps_end) * math.exp(-1. * self.steps_done / self.eps_decay)\n",
        "    self.steps_done += 1\n",
        "    if sample > eps_threshold:\n",
        "        with torch.no_grad():\n",
        "            # t.max(1) will return largest column value of each row.\n",
        "            # second column on max result is index of where max element was\n",
        "            # found, so we pick action with the larger expected reward.\n",
        "            return self.policy_model(state).max(1)[1].view(1, 1)\n",
        "    else:\n",
        "        return torch.tensor([[self.env.action_space.sample()]], device=self.device, dtype=torch.long)\n",
        "\n",
        "\n",
        "\n",
        "  @staticmethod\n",
        "  def plot_rewards(rewards: Sequence[np.ndarray], ax: Optional[Any] = None):\n",
        "      # Plotting\n",
        "      r = pd.DataFrame((itertools.chain(*(itertools.product([i], rewards[i]) for i in range(len(rewards))))), columns=['Epoch', 'Reward'])\n",
        "      if ax is None:\n",
        "          sns.lineplot(x=\"Epoch\", y=\"Reward\", data=r, ci='sd');\n",
        "      else:\n",
        "          sns.lineplot(x=\"Epoch\", y=\"Reward\", data=r, ci='sd', ax=ax);\n",
        "\n",
        "  def evaluate(self):\n",
        "        \"\"\" Evaluate and visualize a single episode.\n",
        "        \"\"\"\n",
        "\n",
        "        env = gym.make(**self.config['env_id_monitor'])\n",
        "        self.monitor_env = VideoRecorder(env, \"./gym-results.mp4\") #, force=True, video_callable=lambda episode: True)\n",
        "        observation, _ = self.monitor_env.env.reset() #seed=self.seed)\n",
        "        observation = torch.tensor(observation, dtype=torch.float, device=self.device)[None, :]\n",
        "        reward_episode = 0\n",
        "        done = False\n",
        "        self.policy_model.eval()\n",
        "        with torch.no_grad():    \n",
        "          while not done:\n",
        "              self.monitor_env.capture_frame()\n",
        "              \n",
        "              action = self.get_action(observation)\n",
        "              observation, reward, terminated, truncated, info = self.monitor_env.env.step(int(action))\n",
        "              done = terminated or truncated\n",
        "              observation = torch.tensor(observation, dtype=torch.float, device=self.device)[None, :]\n",
        "              reward_episode += reward\n",
        "\n",
        "        self.policy_model.train()\n",
        "        self.monitor_env.close()\n",
        "        show_video(\"./\")\n",
        "        print(f'Reward: {reward_episode}')\n"
      ],
      "metadata": {
        "id": "oajYsG3aIM0y"
      },
      "execution_count": null,
      "outputs": []
    },
    {
      "cell_type": "markdown",
      "source": [
        "### DQL Agent"
      ],
      "metadata": {
        "id": "M_LOJk8Fmzuz"
      }
    },
    {
      "cell_type": "code",
      "source": [
        "# source : https://pytorch.org/tutorials/intermediate/reinforcement_q_learning.html\n",
        "\n",
        "class DQLAgent(BaseAgent):\n",
        "\n",
        "  def optimize_model(self):\n",
        "    \"\"\" \n",
        "        args:\n",
        "            n_episodes: number of trajectories in dataset\n",
        "\n",
        "        returns:\n",
        "            \n",
        "        \"\"\"\n",
        "        \n",
        "    if len(self.memory) < self.batch_size:\n",
        "        return\n",
        "\n",
        "    if self.config['sampler'] == 'recent':\n",
        "      transitions = self.memory.sample_recent(self.batch_size)\n",
        "    else:\n",
        "      transitions = self.memory.sample(self.batch_size)\n",
        "    # Transpose the batch (see https://stackoverflow.com/a/19343/3343043 for\n",
        "    # detailed explanation). This converts batch-array of Transitions\n",
        "    # to Transition of batch-arrays.\n",
        "    batch = Transition(*zip(*transitions))\n",
        "\n",
        "    # Compute a mask of non-final states and concatenate the batch elements\n",
        "    # (a final state would've been the one after which simulation ended)\n",
        "    non_final_mask = torch.tensor(tuple(map(lambda s: s is not None,\n",
        "                                          batch.next_state)), device=self.device, dtype=torch.bool)\n",
        "    non_final_next_states = torch.cat([s for s in batch.next_state\n",
        "                                                if s is not None])\n",
        "    state_batch = torch.cat(batch.state)\n",
        "    action_batch = torch.cat(batch.action)\n",
        "    reward_batch = torch.cat(batch.reward)\n",
        "\n",
        "    # Compute Q(s_t, a) - the model computes Q(s_t), then we select the\n",
        "    # columns of actions taken. These are the actions which would've been taken\n",
        "    # for each batch state according to policy_model\n",
        "    state_action_values = self.policy_model(state_batch).gather(1, action_batch)\n",
        "\n",
        "    # Compute V(s_{t+1}) for all next states.\n",
        "    # Expected values of actions for non_final_next_states are computed based\n",
        "    # on the \"older\" target_net; selecting their best reward with max(1)[0].\n",
        "    # This is merged based on the mask, such that we'll have either the expected\n",
        "    # state value or 0 in case the state was final.\n",
        "    next_state_values = torch.zeros(self.batch_size, device=self.device)\n",
        "    with torch.no_grad():\n",
        "        next_state_values[non_final_mask] = self.target_model(non_final_next_states).max(1)[0]\n",
        "    # Compute the expected Q values\n",
        "    expected_state_action_values = (next_state_values * self.discount) + reward_batch\n",
        "\n",
        "    # Compute Huber loss\n",
        "\n",
        "    criterion = self.config['loss_function']\n",
        "    loss = criterion(state_action_values, expected_state_action_values.unsqueeze(1))\n",
        "\n",
        "    # Optimize the model\n",
        "    self.optimizer.zero_grad()\n",
        "    loss.backward()\n",
        "    # In-place gradient clipping\n",
        "    torch.nn.utils.clip_grad_value_(self.policy_model.parameters(), 100)\n",
        "    self.optimizer.step()\n",
        "\n",
        "        \n",
        "  def train(self, n_episodes: int,  plot: bool = True) -> Sequence[np.ndarray]:\n",
        "    \"\"\" Train.\n",
        "        args:\n",
        "            n_episodes: number of episodes for each gradient step\n",
        "            n_iterations: determine training duration\n",
        "        \"\"\"\n",
        "    plt.ion()\n",
        "    for i_episode in range(n_episodes):\n",
        "      # Initialize the environment and get it's state\n",
        "      state, _ = self.env.reset()\n",
        "      state = torch.tensor(state, dtype=torch.float32, device=self.device).unsqueeze(0)\n",
        "      for t in count():\n",
        "          action = self.get_action(state)\n",
        "          observation, reward, terminated, truncated, _ = self.env.step(action.item())\n",
        "          reward = torch.tensor([reward], device=self.device)\n",
        "          done = terminated or truncated\n",
        "\n",
        "          if terminated:\n",
        "              next_state = None\n",
        "          else:\n",
        "              next_state = torch.tensor(observation, dtype=torch.float32, device=self.device).unsqueeze(0)\n",
        "\n",
        "          # Store the transition in memory\n",
        "          self.memory.push(state, action, next_state, reward)\n",
        "\n",
        "          # Move to the next state\n",
        "          state = next_state\n",
        "\n",
        "          # Perform one step of the optimization (on the policy network)\n",
        "          self.optimize_model()\n",
        "\n",
        "          # Soft update of the target network's weights\n",
        "          # θ′ ← τ θ + (1 −τ )θ′\n",
        "          target_net_state_dict = self.target_model.state_dict()\n",
        "          policy_net_state_dict = self.policy_model.state_dict()\n",
        "\n",
        "          for key in policy_net_state_dict:\n",
        "              target_net_state_dict[key] = policy_net_state_dict[key] * self.tau + target_net_state_dict[key] * (1-self.tau)\n",
        "          self.target_model.load_state_dict(target_net_state_dict)\n",
        "\n",
        "          if done:\n",
        "              self.episode_durations.append(t + 1)\n",
        "              self.plot_durations()\n",
        "              break\n",
        "\n",
        "    print('Complete')\n",
        "    self.plot_durations(show_result=True)\n",
        "    plt.ioff()\n",
        "    plt.show()\n"
      ],
      "metadata": {
        "id": "6hxye77Jm2rJ"
      },
      "execution_count": null,
      "outputs": []
    },
    {
      "cell_type": "markdown",
      "source": [
        "### Entrainement de l'agent DQL"
      ],
      "metadata": {
        "id": "bso18iPn2C5a"
      }
    },
    {
      "cell_type": "code",
      "source": [
        "# Vous serez noté sur base de la sortie de cette cellule, donc veuillez l'exécuter.\n",
        "# Voici un exemple de configuration adaptée à la question ci-dessus. Gardez la même configuration.\n",
        "config = {\n",
        "    'env_id': dict(id=\"CartPole-v1\"),\n",
        "    'env_id_monitor': dict(id=\"CartPole-v1\", render_mode=\"rgb_array_list\", disable_env_checker=True),\n",
        "    'seed': 0,\n",
        "    'policy_layers': [128, 128], # les couches intermédiaires du réseau neuronal\n",
        "    'learning_rate': 1e-4,       # le pas d'apprentissage ou taux d'apprentissage\n",
        "    'policy_activation':nn.ReLU, # la fonction d'activation\n",
        "    'loss_function': nn.SmoothL1Loss(), # nn.MSELoss(), # la fonction de perte (nn.SmoothL1Loss())\n",
        "    'batch_size': 128,            \n",
        "    'discount': 0.99,              # le paramètre d'escompte\n",
        "    'eps_start' : 0.9,\n",
        "    'eps_end' : 0.05,\n",
        "    'eps_decay':1000,\n",
        "    'tau': 0.005,\n",
        "    'memory' : 10000,\n",
        "    'sampler': 'random' # recent\n",
        "}\n",
        "\n",
        "\n",
        "agent1 = DQLAgent(config)"
      ],
      "metadata": {
        "id": "nGCxP2zat5kX"
      },
      "execution_count": null,
      "outputs": []
    },
    {
      "cell_type": "code",
      "source": [
        "agent1.evaluate()"
      ],
      "metadata": {
        "id": "zk3YvY7GAyPg"
      },
      "execution_count": null,
      "outputs": []
    },
    {
      "cell_type": "code",
      "source": [
        "plt.ioff()\n",
        "agent1.train(600)"
      ],
      "metadata": {
        "colab": {
          "base_uri": "https://localhost:8080/",
          "height": 340
        },
        "id": "kfZYHGCmt7fs",
        "outputId": "111bb1f8-e0d6-4cf1-d8fa-7f31e3b52c2f"
      },
      "execution_count": null,
      "outputs": [
        {
          "output_type": "stream",
          "name": "stdout",
          "text": [
            "Complete\n"
          ]
        },
        {
          "output_type": "display_data",
          "data": {
            "text/plain": [
              "<Figure size 432x288 with 1 Axes>"
            ],
            "image/png": "[encoded data removed]"
          },
          "metadata": {}
        },
        {
          "output_type": "display_data",
          "data": {
            "text/plain": [
              "<Figure size 432x288 with 0 Axes>"
            ]
          },
          "metadata": {}
        },
        {
          "output_type": "display_data",
          "data": {
            "text/plain": [
              "<Figure size 432x288 with 0 Axes>"
            ]
          },
          "metadata": {}
        }
      ]
    },
    {
      "cell_type": "code",
      "source": [
        "agent1.evaluate()"
      ],
      "metadata": {
        "colab": {
          "base_uri": "https://localhost:8080/",
          "height": 518
        },
        "id": "HyybFnmQy9y3",
        "outputId": "176db7ae-7314-40d2-c6ef-86a4a674fe09"
      },
      "execution_count": null,
      "outputs": [
        {
          "output_type": "stream",
          "name": "stdout",
          "text": [
            "Moviepy - Building video ./gym-results.mp4.\n",
            "Moviepy - Writing video ./gym-results.mp4\n",
            "\n"
          ]
        },
        {
          "output_type": "stream",
          "name": "stderr",
          "text": []
        },
        {
          "output_type": "stream",
          "name": "stdout",
          "text": [
            "Moviepy - Done !\n",
            "Moviepy - video ready ./gym-results.mp4\n"
          ]
        },
        {
          "output_type": "display_data",
          "data": {
            "text/plain": [
              "<IPython.core.display.HTML object>"
            ],
            "text/html": [
              "<video alt=\"gym-results.mp4\" autoplay \n",
              "                      loop controls style=\"height: 400px;\">\n",
              "                      <source src=\"data:video/mp4;base64,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\" type=\"video/mp4\" />\n",
              "                 </video>"
            ]
          },
          "metadata": {}
        },
        {
          "output_type": "stream",
          "name": "stdout",
          "text": [
            "Reward: 500.0\n"
          ]
        }
      ]
    },
    {
      "cell_type": "markdown",
      "source": [
        "# Questions"
      ],
      "metadata": {
        "id": "MsBZg3pieFcq"
      }
    },
    {
      "cell_type": "markdown",
      "source": [
        "### 1. \n",
        "\n",
        "1.1. Si votre impementation est correcte, expliquez pourquoi après 350 episodes, les épisodes durent plus lontemps qu'au début de l'entraînement? **\\[5 points\\]**\n",
        "\n",
        "1.2. Expliquer dans quel cas il est nécessaire de représenter la fonction d'utilité Q à l'aide d'un approximateur de fonction paramétrée ? **\\[5 points\\]**"
      ],
      "metadata": {
        "id": "C59TAyAd5KiZ"
      }
    },
    {
      "cell_type": "markdown",
      "source": [],
      "metadata": {
        "id": "h45rr6iNqBf4"
      }
    },
    {
      "cell_type": "markdown",
      "source": [
        "### 2. \n",
        "Quels sont les avantages de l'utilisation d'un tampon de relecture (replay buffer) ? **\\[10 points\\]**"
      ],
      "metadata": {
        "id": "IN5elJoWCrwv"
      }
    },
    {
      "cell_type": "markdown",
      "source": [],
      "metadata": {
        "id": "rjWHAjdse6N5"
      }
    },
    {
      "cell_type": "markdown",
      "source": [
        "### 3. \n",
        "Quelle est l'importance de faire un échantillonnage aléatoire sur le tampon de relecture au lieu de choisir les dernières transitions consécutives pour mettre à jour les poids du réseau de neurones $Q_θ$ ? **\\[10 points\\]**"
      ],
      "metadata": {
        "id": "8QFpwFStxFLx"
      }
    },
    {
      "cell_type": "markdown",
      "source": [],
      "metadata": {
        "id": "RGb8wxrIDAjt"
      }
    },
    {
      "cell_type": "markdown",
      "source": [
        "### 4. \n",
        "Comparez, avec commentaires, les courbes de la durée des épisodes lorsque l'agent est entraîné avec du `random` ( échantillonnage aléatoire) et `recent` (les dernières transitions consécutives) batch du replay buffer. **\\[20 points\\]**"
      ],
      "metadata": {
        "id": "rdt3u9aAuMJq"
      }
    },
    {
      "cell_type": "code",
      "source": [
        "# votre code ici"
      ],
      "metadata": {
        "id": "Tp6wzs8hurKe"
      },
      "execution_count": null,
      "outputs": []
    },
    {
      "cell_type": "markdown",
      "source": [
        "### 5. \n",
        "Tracez dans le même graphique la durée des épisodes lorsque l'agent est entraîné en utilisant l'erreur quadratique moyenne (EQM) et la perte [SmoothL1 Loss](https://pytorch.org/docs/stable/generated/torch.nn.SmoothL1Loss.html\\#torch.nn.SmoothL1Loss)  . Rapportez vos observations et dites laquelle des pertes est la meilleure ? pourquoi ? **\\[20 points\\]**"
      ],
      "metadata": {
        "id": "7MFDmWZpewvk"
      }
    },
    {
      "cell_type": "code",
      "source": [
        "# votre code ici"
      ],
      "metadata": {
        "id": "2VguOWd7DB3Q"
      },
      "execution_count": null,
      "outputs": []
    }
  ]
}